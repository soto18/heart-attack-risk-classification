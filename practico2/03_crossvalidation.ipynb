{
 "cells": [
  {
   "cell_type": "markdown",
   "metadata": {},
   "source": [
    "##### Validación cruzada"
   ]
  },
  {
   "cell_type": "code",
   "execution_count": 1,
   "metadata": {},
   "outputs": [],
   "source": [
    "import pandas as pd\n",
    "from joblib import load\n",
    "import numpy as np\n",
    "\n",
    "from sklearn.model_selection import cross_validate\n",
    "from sklearn.metrics import precision_score, recall_score, f1_score"
   ]
  },
  {
   "cell_type": "markdown",
   "metadata": {},
   "source": [
    "##### Cargar modelos entrenados"
   ]
  },
  {
   "cell_type": "code",
   "execution_count": 2,
   "metadata": {},
   "outputs": [],
   "source": [
    "models = {\n",
    "    \"KNN\": load(\"results/knn_model.joblib\"),\n",
    "    \"DT\": load(\"results/dt_model.joblib\"),\n",
    "    \"GradientBoosting\": load(\"results/gradientBoosting_model.joblib\"),\n",
    "    \"ExtraTrees\": load(\"results/extraTrees_model.joblib\")\n",
    "}"
   ]
  },
  {
   "cell_type": "markdown",
   "metadata": {},
   "source": [
    "##### Leer datos y respuestas"
   ]
  },
  {
   "cell_type": "code",
   "execution_count": 3,
   "metadata": {},
   "outputs": [],
   "source": [
    "train_data = pd.read_csv(\"data_practico1/train_data.csv\")\n",
    "val_data = pd.read_csv(\"data_practico1/val_data.csv\")\n",
    "test_data = pd.read_csv(\"data_practico1/test_data.csv\")\n",
    "\n",
    "y_train = np.load(\"data_practico1/y_train.npy\")\n",
    "y_val = np.load(\"data_practico1/y_val.npy\")\n",
    "y_test = np.load(\"data_practico1/y_test.npy\")"
   ]
  },
  {
   "cell_type": "markdown",
   "metadata": {},
   "source": [
    "#### Ejecutar validación cruzada y calcular métricas de desempeño"
   ]
  },
  {
   "cell_type": "code",
   "execution_count": 4,
   "metadata": {},
   "outputs": [],
   "source": [
    "scoring = {\n",
    "    'accuracy': 'accuracy',\n",
    "    'recall': 'recall',\n",
    "    'precision': 'precision',\n",
    "    'f1': 'f1'\n",
    "}"
   ]
  },
  {
   "cell_type": "code",
   "execution_count": 5,
   "metadata": {},
   "outputs": [],
   "source": [
    "results = []\n",
    "\n",
    "for model_name, model in models.items():\n",
    "   \n",
    "    scores = cross_validate(model, train_data, y_train, cv=10, scoring=scoring, return_train_score=True)\n",
    "    \n",
    "    # Promedios training\n",
    "    avg_train_accuracy = np.mean(scores['train_accuracy'])\n",
    "    avg_train_recall = np.mean(scores['train_recall'])\n",
    "    avg_train_precision = np.mean(scores['train_precision'])\n",
    "    avg_train_f1 = np.mean(scores['train_f1'])\n",
    "    \n",
    "    # Promedios test\n",
    "    avg_test_accuracy = np.mean(scores['test_accuracy'])\n",
    "    avg_test_recall = np.mean(scores['test_recall'])\n",
    "    avg_test_precision = np.mean(scores['test_precision'])\n",
    "    avg_test_f1 = np.mean(scores['test_f1'])\n",
    "    \n",
    "    # Evaluación en validación\n",
    "    model.fit(train_data, y_train)  # Ajuste completo del modelo\n",
    "    val_accuracy = model.score(val_data, y_val)\n",
    "    val_predictions = model.predict(val_data)\n",
    "    \n",
    "    val_recall = recall_score(y_val, val_predictions)\n",
    "    val_precision = precision_score(y_val, val_predictions)\n",
    "    val_f1 = f1_score(y_val, val_predictions)\n",
    "    \n",
    "    results.append({\n",
    "        'Model': model_name,\n",
    "\n",
    "        'Train accuracy': avg_train_accuracy,\n",
    "        'Test accuracy': avg_test_accuracy,\n",
    "        'Validation accuracy': val_accuracy,\n",
    "\n",
    "        'Train recall': avg_train_recall,\n",
    "        'Test recall': avg_test_recall,\n",
    "        'Validation recall': val_recall,\n",
    "\n",
    "        'Train precision': avg_train_precision,\n",
    "        'Test precision': avg_test_precision,\n",
    "        'Validation precision': val_precision,\n",
    "\n",
    "        'Train F1-score': avg_train_f1,\n",
    "        'Test F1-score': avg_test_f1,\n",
    "        'Validation F1-score': val_f1\n",
    "    })\n",
    "\n",
    "results_df = pd.DataFrame(results)"
   ]
  },
  {
   "cell_type": "code",
   "execution_count": 6,
   "metadata": {},
   "outputs": [
    {
     "data": {
      "text/html": [
       "<div>\n",
       "<style scoped>\n",
       "    .dataframe tbody tr th:only-of-type {\n",
       "        vertical-align: middle;\n",
       "    }\n",
       "\n",
       "    .dataframe tbody tr th {\n",
       "        vertical-align: top;\n",
       "    }\n",
       "\n",
       "    .dataframe thead th {\n",
       "        text-align: right;\n",
       "    }\n",
       "</style>\n",
       "<table border=\"1\" class=\"dataframe\">\n",
       "  <thead>\n",
       "    <tr style=\"text-align: right;\">\n",
       "      <th></th>\n",
       "      <th>Model</th>\n",
       "      <th>Train accuracy</th>\n",
       "      <th>Test accuracy</th>\n",
       "      <th>Validation accuracy</th>\n",
       "      <th>Train recall</th>\n",
       "      <th>Test recall</th>\n",
       "      <th>Validation recall</th>\n",
       "      <th>Train precision</th>\n",
       "      <th>Test precision</th>\n",
       "      <th>Validation precision</th>\n",
       "      <th>Train F1-score</th>\n",
       "      <th>Test F1-score</th>\n",
       "      <th>Validation F1-score</th>\n",
       "    </tr>\n",
       "  </thead>\n",
       "  <tbody>\n",
       "    <tr>\n",
       "      <th>0</th>\n",
       "      <td>KNN</td>\n",
       "      <td>0.714102</td>\n",
       "      <td>0.577673</td>\n",
       "      <td>0.571610</td>\n",
       "      <td>0.454759</td>\n",
       "      <td>0.257829</td>\n",
       "      <td>0.238616</td>\n",
       "      <td>0.646923</td>\n",
       "      <td>0.374697</td>\n",
       "      <td>0.336761</td>\n",
       "      <td>0.534052</td>\n",
       "      <td>0.305182</td>\n",
       "      <td>0.279318</td>\n",
       "    </tr>\n",
       "    <tr>\n",
       "      <th>1</th>\n",
       "      <td>DT</td>\n",
       "      <td>1.000000</td>\n",
       "      <td>0.540742</td>\n",
       "      <td>0.534221</td>\n",
       "      <td>1.000000</td>\n",
       "      <td>0.387623</td>\n",
       "      <td>0.367942</td>\n",
       "      <td>1.000000</td>\n",
       "      <td>0.369534</td>\n",
       "      <td>0.342373</td>\n",
       "      <td>1.000000</td>\n",
       "      <td>0.378065</td>\n",
       "      <td>0.354697</td>\n",
       "    </tr>\n",
       "    <tr>\n",
       "      <th>2</th>\n",
       "      <td>GradientBoosting</td>\n",
       "      <td>0.666878</td>\n",
       "      <td>0.632847</td>\n",
       "      <td>0.647655</td>\n",
       "      <td>0.079436</td>\n",
       "      <td>0.019358</td>\n",
       "      <td>0.010929</td>\n",
       "      <td>0.953391</td>\n",
       "      <td>0.342143</td>\n",
       "      <td>0.315789</td>\n",
       "      <td>0.146524</td>\n",
       "      <td>0.036325</td>\n",
       "      <td>0.021127</td>\n",
       "    </tr>\n",
       "    <tr>\n",
       "      <th>3</th>\n",
       "      <td>ExtraTrees</td>\n",
       "      <td>1.000000</td>\n",
       "      <td>0.629043</td>\n",
       "      <td>0.648923</td>\n",
       "      <td>1.000000</td>\n",
       "      <td>0.025083</td>\n",
       "      <td>0.029144</td>\n",
       "      <td>1.000000</td>\n",
       "      <td>0.313109</td>\n",
       "      <td>0.432432</td>\n",
       "      <td>1.000000</td>\n",
       "      <td>0.046296</td>\n",
       "      <td>0.054608</td>\n",
       "    </tr>\n",
       "  </tbody>\n",
       "</table>\n",
       "</div>"
      ],
      "text/plain": [
       "              Model  Train accuracy  Test accuracy  Validation accuracy  \\\n",
       "0               KNN        0.714102       0.577673             0.571610   \n",
       "1                DT        1.000000       0.540742             0.534221   \n",
       "2  GradientBoosting        0.666878       0.632847             0.647655   \n",
       "3        ExtraTrees        1.000000       0.629043             0.648923   \n",
       "\n",
       "   Train recall  Test recall  Validation recall  Train precision  \\\n",
       "0      0.454759     0.257829           0.238616         0.646923   \n",
       "1      1.000000     0.387623           0.367942         1.000000   \n",
       "2      0.079436     0.019358           0.010929         0.953391   \n",
       "3      1.000000     0.025083           0.029144         1.000000   \n",
       "\n",
       "   Test precision  Validation precision  Train F1-score  Test F1-score  \\\n",
       "0        0.374697              0.336761        0.534052       0.305182   \n",
       "1        0.369534              0.342373        1.000000       0.378065   \n",
       "2        0.342143              0.315789        0.146524       0.036325   \n",
       "3        0.313109              0.432432        1.000000       0.046296   \n",
       "\n",
       "   Validation F1-score  \n",
       "0             0.279318  \n",
       "1             0.354697  \n",
       "2             0.021127  \n",
       "3             0.054608  "
      ]
     },
     "execution_count": 6,
     "metadata": {},
     "output_type": "execute_result"
    }
   ],
   "source": [
    "results_df"
   ]
  }
 ],
 "metadata": {
  "kernelspec": {
   "display_name": "base",
   "language": "python",
   "name": "python3"
  },
  "language_info": {
   "codemirror_mode": {
    "name": "ipython",
    "version": 3
   },
   "file_extension": ".py",
   "mimetype": "text/x-python",
   "name": "python",
   "nbconvert_exporter": "python",
   "pygments_lexer": "ipython3",
   "version": "3.12.5"
  }
 },
 "nbformat": 4,
 "nbformat_minor": 2
}
