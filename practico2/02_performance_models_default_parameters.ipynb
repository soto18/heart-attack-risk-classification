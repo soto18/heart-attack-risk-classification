{
 "cells": [
  {
   "cell_type": "code",
   "execution_count": 12,
   "metadata": {},
   "outputs": [],
   "source": [
    "import warnings\n",
    "warnings.filterwarnings('ignore')"
   ]
  },
  {
   "cell_type": "markdown",
   "metadata": {},
   "source": [
    "#### Evaluar metricas de desempeño de los modelos entrenados con parámetros por defecto"
   ]
  },
  {
   "cell_type": "code",
   "execution_count": 13,
   "metadata": {},
   "outputs": [],
   "source": [
    "import pandas as pd\n",
    "from joblib import load\n",
    "import numpy as np\n",
    "\n",
    "from sklearn.metrics import accuracy_score, recall_score, precision_score, f1_score, matthews_corrcoef, confusion_matrix"
   ]
  },
  {
   "cell_type": "code",
   "execution_count": 14,
   "metadata": {},
   "outputs": [],
   "source": [
    "def predict_class(scaler_instance, model, val_data, test_data):\n",
    "    val_data_scaler = scaler_instance.transform(val_data.values)\n",
    "    test_data_scaler = scaler_instance.transform(test_data.values)\n",
    "    predict_val = model.predict(X=val_data_scaler)\n",
    "    predict_test = model.predict(X=test_data_scaler)\n",
    "\n",
    "    return predict_val, predict_test"
   ]
  },
  {
   "cell_type": "code",
   "execution_count": 15,
   "metadata": {},
   "outputs": [],
   "source": [
    "def metrics_model(predict_val, y_val, dataset, scaler, model):\n",
    "    acc_value = accuracy_score(y_pred=predict_val, y_true=y_val) \n",
    "    recall_value = recall_score(y_pred=predict_val, y_true=y_val, average='weighted')\n",
    "    precision_value = precision_score(y_pred=predict_val, y_true=y_val, average='weighted') \n",
    "    f1_value = f1_score(y_pred=predict_val, y_true=y_val, average='weighted')\n",
    "    mcc_value = matthews_corrcoef(y_pred=predict_val, y_true=y_val)\n",
    "    cm = confusion_matrix(y_pred=predict_val, y_true=y_val)\n",
    "\n",
    "    df_metrics = pd.DataFrame([[dataset, scaler, model, acc_value, recall_value, precision_value, f1_value, mcc_value, cm]],\n",
    "                              columns=[\"dataset\", \"scaler\", \"model\", \"acc\", \"recall\", \"precision\", \"f1\", \"mcc\", \"cm\"])\n",
    "\n",
    "    return df_metrics"
   ]
  },
  {
   "cell_type": "markdown",
   "metadata": {},
   "source": [
    "##### Cargar escalador"
   ]
  },
  {
   "cell_type": "code",
   "execution_count": 16,
   "metadata": {},
   "outputs": [],
   "source": [
    "scalers = {\"RobustScaler\": load(\"data_practico1/scaler_robust.joblib\")}"
   ]
  },
  {
   "cell_type": "markdown",
   "metadata": {},
   "source": [
    "##### Cargar modelos entrenados"
   ]
  },
  {
   "cell_type": "code",
   "execution_count": 17,
   "metadata": {},
   "outputs": [],
   "source": [
    "models = {\n",
    "    \"KNN\": load(\"results/knn_model.joblib\"),\n",
    "    \"DT\": load(\"results/dt_model.joblib\"),\n",
    "    \"GradientBoosting\": load(\"results/gradientBoosting_model.joblib\"),\n",
    "    \"ExtraTrees\": load(\"results/extraTrees_model.joblib\")\n",
    "}"
   ]
  },
  {
   "cell_type": "markdown",
   "metadata": {},
   "source": [
    "##### Leer datos y respuestas de validación y testeo"
   ]
  },
  {
   "cell_type": "code",
   "execution_count": 18,
   "metadata": {},
   "outputs": [],
   "source": [
    "val_data = pd.read_csv(\"data_practico1/val_data.csv\")\n",
    "test_data = pd.read_csv(\"data_practico1/test_data.csv\")\n",
    "\n",
    "y_val = np.load(\"data_practico1/y_val.npy\")\n",
    "y_test = np.load(\"data_practico1/y_test.npy\")"
   ]
  },
  {
   "cell_type": "markdown",
   "metadata": {},
   "source": [
    "##### Aplicar metricas a los modelos"
   ]
  },
  {
   "cell_type": "code",
   "execution_count": 19,
   "metadata": {},
   "outputs": [],
   "source": [
    "results = []\n",
    "\n",
    "for scaler_name, scaler_instance in scalers.items():\n",
    "    for model_name, model in models.items():\n",
    "        predict_val, predict_test = predict_class(scaler_instance, model, val_data, test_data)\n",
    "        results.append(metrics_model(predict_val, y_val, \"Validation\", scaler_name, model_name))\n",
    "        results.append(metrics_model(predict_test, y_test, \"Test\", scaler_name, model_name))"
   ]
  },
  {
   "cell_type": "code",
   "execution_count": 20,
   "metadata": {},
   "outputs": [],
   "source": [
    "df_result = pd.concat(results)\n",
    "df_result = df_result.reset_index(drop=True)"
   ]
  },
  {
   "cell_type": "code",
   "execution_count": 21,
   "metadata": {},
   "outputs": [
    {
     "data": {
      "text/html": [
       "<div>\n",
       "<style scoped>\n",
       "    .dataframe tbody tr th:only-of-type {\n",
       "        vertical-align: middle;\n",
       "    }\n",
       "\n",
       "    .dataframe tbody tr th {\n",
       "        vertical-align: top;\n",
       "    }\n",
       "\n",
       "    .dataframe thead th {\n",
       "        text-align: right;\n",
       "    }\n",
       "</style>\n",
       "<table border=\"1\" class=\"dataframe\">\n",
       "  <thead>\n",
       "    <tr style=\"text-align: right;\">\n",
       "      <th></th>\n",
       "      <th>dataset</th>\n",
       "      <th>scaler</th>\n",
       "      <th>model</th>\n",
       "      <th>acc</th>\n",
       "      <th>recall</th>\n",
       "      <th>precision</th>\n",
       "      <th>f1</th>\n",
       "      <th>mcc</th>\n",
       "      <th>cm</th>\n",
       "    </tr>\n",
       "  </thead>\n",
       "  <tbody>\n",
       "    <tr>\n",
       "      <th>0</th>\n",
       "      <td>Validation</td>\n",
       "      <td>RobustScaler</td>\n",
       "      <td>KNN</td>\n",
       "      <td>0.596958</td>\n",
       "      <td>0.596958</td>\n",
       "      <td>0.565368</td>\n",
       "      <td>0.574011</td>\n",
       "      <td>0.040554</td>\n",
       "      <td>[[800, 229], [407, 142]]</td>\n",
       "    </tr>\n",
       "    <tr>\n",
       "      <th>1</th>\n",
       "      <td>Test</td>\n",
       "      <td>RobustScaler</td>\n",
       "      <td>KNN</td>\n",
       "      <td>0.566705</td>\n",
       "      <td>0.566705</td>\n",
       "      <td>0.535348</td>\n",
       "      <td>0.544525</td>\n",
       "      <td>-0.006359</td>\n",
       "      <td>[[419, 141], [239, 78]]</td>\n",
       "    </tr>\n",
       "    <tr>\n",
       "      <th>2</th>\n",
       "      <td>Validation</td>\n",
       "      <td>RobustScaler</td>\n",
       "      <td>DT</td>\n",
       "      <td>0.530418</td>\n",
       "      <td>0.530418</td>\n",
       "      <td>0.539200</td>\n",
       "      <td>0.534413</td>\n",
       "      <td>-0.015537</td>\n",
       "      <td>[[636, 393], [348, 201]]</td>\n",
       "    </tr>\n",
       "    <tr>\n",
       "      <th>3</th>\n",
       "      <td>Test</td>\n",
       "      <td>RobustScaler</td>\n",
       "      <td>DT</td>\n",
       "      <td>0.530217</td>\n",
       "      <td>0.530217</td>\n",
       "      <td>0.537182</td>\n",
       "      <td>0.533388</td>\n",
       "      <td>-0.002607</td>\n",
       "      <td>[[343, 217], [195, 122]]</td>\n",
       "    </tr>\n",
       "    <tr>\n",
       "      <th>4</th>\n",
       "      <td>Validation</td>\n",
       "      <td>RobustScaler</td>\n",
       "      <td>GradientBoosting</td>\n",
       "      <td>0.647655</td>\n",
       "      <td>0.647655</td>\n",
       "      <td>0.534834</td>\n",
       "      <td>0.519348</td>\n",
       "      <td>-0.007444</td>\n",
       "      <td>[[1016, 13], [543, 6]]</td>\n",
       "    </tr>\n",
       "    <tr>\n",
       "      <th>5</th>\n",
       "      <td>Test</td>\n",
       "      <td>RobustScaler</td>\n",
       "      <td>GradientBoosting</td>\n",
       "      <td>0.629418</td>\n",
       "      <td>0.629418</td>\n",
       "      <td>0.515256</td>\n",
       "      <td>0.504957</td>\n",
       "      <td>-0.019543</td>\n",
       "      <td>[[546, 14], [311, 6]]</td>\n",
       "    </tr>\n",
       "    <tr>\n",
       "      <th>6</th>\n",
       "      <td>Validation</td>\n",
       "      <td>RobustScaler</td>\n",
       "      <td>ExtraTrees</td>\n",
       "      <td>0.647655</td>\n",
       "      <td>0.647655</td>\n",
       "      <td>0.570639</td>\n",
       "      <td>0.530845</td>\n",
       "      <td>0.022880</td>\n",
       "      <td>[[1005, 24], [532, 17]]</td>\n",
       "    </tr>\n",
       "    <tr>\n",
       "      <th>7</th>\n",
       "      <td>Test</td>\n",
       "      <td>RobustScaler</td>\n",
       "      <td>ExtraTrees</td>\n",
       "      <td>0.632839</td>\n",
       "      <td>0.632839</td>\n",
       "      <td>0.541002</td>\n",
       "      <td>0.508601</td>\n",
       "      <td>0.002156</td>\n",
       "      <td>[[548, 12], [310, 7]]</td>\n",
       "    </tr>\n",
       "  </tbody>\n",
       "</table>\n",
       "</div>"
      ],
      "text/plain": [
       "      dataset        scaler             model       acc    recall  precision  \\\n",
       "0  Validation  RobustScaler               KNN  0.596958  0.596958   0.565368   \n",
       "1        Test  RobustScaler               KNN  0.566705  0.566705   0.535348   \n",
       "2  Validation  RobustScaler                DT  0.530418  0.530418   0.539200   \n",
       "3        Test  RobustScaler                DT  0.530217  0.530217   0.537182   \n",
       "4  Validation  RobustScaler  GradientBoosting  0.647655  0.647655   0.534834   \n",
       "5        Test  RobustScaler  GradientBoosting  0.629418  0.629418   0.515256   \n",
       "6  Validation  RobustScaler        ExtraTrees  0.647655  0.647655   0.570639   \n",
       "7        Test  RobustScaler        ExtraTrees  0.632839  0.632839   0.541002   \n",
       "\n",
       "         f1       mcc                        cm  \n",
       "0  0.574011  0.040554  [[800, 229], [407, 142]]  \n",
       "1  0.544525 -0.006359   [[419, 141], [239, 78]]  \n",
       "2  0.534413 -0.015537  [[636, 393], [348, 201]]  \n",
       "3  0.533388 -0.002607  [[343, 217], [195, 122]]  \n",
       "4  0.519348 -0.007444    [[1016, 13], [543, 6]]  \n",
       "5  0.504957 -0.019543     [[546, 14], [311, 6]]  \n",
       "6  0.530845  0.022880   [[1005, 24], [532, 17]]  \n",
       "7  0.508601  0.002156     [[548, 12], [310, 7]]  "
      ]
     },
     "execution_count": 21,
     "metadata": {},
     "output_type": "execute_result"
    }
   ],
   "source": [
    "df_result"
   ]
  }
 ],
 "metadata": {
  "kernelspec": {
   "display_name": "base",
   "language": "python",
   "name": "python3"
  },
  "language_info": {
   "codemirror_mode": {
    "name": "ipython",
    "version": 3
   },
   "file_extension": ".py",
   "mimetype": "text/x-python",
   "name": "python",
   "nbconvert_exporter": "python",
   "pygments_lexer": "ipython3",
   "version": "3.12.5"
  }
 },
 "nbformat": 4,
 "nbformat_minor": 2
}
