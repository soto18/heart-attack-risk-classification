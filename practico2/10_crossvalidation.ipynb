{
 "cells": [
  {
   "cell_type": "code",
   "execution_count": 14,
   "metadata": {},
   "outputs": [],
   "source": [
    "import warnings\n",
    "warnings.filterwarnings('ignore')"
   ]
  },
  {
   "cell_type": "markdown",
   "metadata": {},
   "source": [
    "##### Validación cruzada"
   ]
  },
  {
   "cell_type": "code",
   "execution_count": 15,
   "metadata": {},
   "outputs": [],
   "source": [
    "import pandas as pd\n",
    "from joblib import load\n",
    "import numpy as np\n",
    "\n",
    "from sklearn.model_selection import cross_val_score"
   ]
  },
  {
   "cell_type": "markdown",
   "metadata": {},
   "source": [
    "##### Cargar modelos entrenados"
   ]
  },
  {
   "cell_type": "code",
   "execution_count": 16,
   "metadata": {},
   "outputs": [],
   "source": [
    "models = {\n",
    "    \"KNN\": load(\"results/knn_model.joblib\"),\n",
    "    \"DT\": load(\"results/dt_model.joblib\"),\n",
    "    \"SVM\": load(\"results/svm_model.joblib\"),\n",
    "    \"ADA\": load(\"results/ada_model.joblib\"),\n",
    "    \"GBC\": load(\"results/gbc_model.joblib\"),\n",
    "    \"RF\": load(\"results/rf_model.joblib\")\n",
    "}"
   ]
  },
  {
   "cell_type": "markdown",
   "metadata": {},
   "source": [
    "##### Leer datos y respuestas"
   ]
  },
  {
   "cell_type": "code",
   "execution_count": 17,
   "metadata": {},
   "outputs": [],
   "source": [
    "train_data = pd.read_csv(\"process_dataset/train_data_scaled_robust.csv\")\n",
    "val_data = pd.read_csv(\"process_dataset/val_data.csv\")\n",
    "test_data = pd.read_csv(\"process_dataset/test_data.csv\")\n",
    "\n",
    "y_train = np.load(\"process_dataset/y_train.npy\")\n",
    "y_val = np.load(\"process_dataset/y_val.npy\")\n",
    "y_test = np.load(\"process_dataset/y_test.npy\")"
   ]
  },
  {
   "cell_type": "markdown",
   "metadata": {},
   "source": [
    "#### Ejecutar validación cruzada y calcular métricas de desempeño"
   ]
  },
  {
   "cell_type": "code",
   "execution_count": 18,
   "metadata": {},
   "outputs": [],
   "source": [
    "results = []\n",
    "\n",
    "for model_name, model in models.items():\n",
    "    metrics = {\n",
    "        \"Model\": model_name,\n",
    "        \"Accuracy\": cross_val_score(model, train_data, y_train, cv=10, scoring=\"accuracy\").mean(),\n",
    "        \"Recall\": cross_val_score(model, train_data, y_train, cv=10, scoring=\"recall\").mean(),\n",
    "        \"Precision\": cross_val_score(model, train_data, y_train, cv=10, scoring=\"precision\").mean(),\n",
    "        \"F1\": cross_val_score(model, train_data, y_train, cv=10, scoring=\"f1\").mean()\n",
    "    }\n",
    "    results.append(metrics)\n",
    "\n",
    "df_results = pd.DataFrame(results)"
   ]
  },
  {
   "cell_type": "code",
   "execution_count": 19,
   "metadata": {},
   "outputs": [
    {
     "data": {
      "text/html": [
       "<div>\n",
       "<style scoped>\n",
       "    .dataframe tbody tr th:only-of-type {\n",
       "        vertical-align: middle;\n",
       "    }\n",
       "\n",
       "    .dataframe tbody tr th {\n",
       "        vertical-align: top;\n",
       "    }\n",
       "\n",
       "    .dataframe thead th {\n",
       "        text-align: right;\n",
       "    }\n",
       "</style>\n",
       "<table border=\"1\" class=\"dataframe\">\n",
       "  <thead>\n",
       "    <tr style=\"text-align: right;\">\n",
       "      <th></th>\n",
       "      <th>Model</th>\n",
       "      <th>Accuracy</th>\n",
       "      <th>Recall</th>\n",
       "      <th>Precision</th>\n",
       "      <th>F1</th>\n",
       "    </tr>\n",
       "  </thead>\n",
       "  <tbody>\n",
       "    <tr>\n",
       "      <th>0</th>\n",
       "      <td>KNN</td>\n",
       "      <td>0.492920</td>\n",
       "      <td>0.467224</td>\n",
       "      <td>0.484266</td>\n",
       "      <td>0.475002</td>\n",
       "    </tr>\n",
       "    <tr>\n",
       "      <th>1</th>\n",
       "      <td>DT</td>\n",
       "      <td>0.508407</td>\n",
       "      <td>0.507197</td>\n",
       "      <td>0.501650</td>\n",
       "      <td>0.506589</td>\n",
       "    </tr>\n",
       "    <tr>\n",
       "      <th>2</th>\n",
       "      <td>SVM</td>\n",
       "      <td>0.499336</td>\n",
       "      <td>0.466776</td>\n",
       "      <td>0.490756</td>\n",
       "      <td>0.478199</td>\n",
       "    </tr>\n",
       "    <tr>\n",
       "      <th>3</th>\n",
       "      <td>ADA</td>\n",
       "      <td>0.503540</td>\n",
       "      <td>0.460875</td>\n",
       "      <td>0.495478</td>\n",
       "      <td>0.477284</td>\n",
       "    </tr>\n",
       "    <tr>\n",
       "      <th>4</th>\n",
       "      <td>GBC</td>\n",
       "      <td>0.505088</td>\n",
       "      <td>0.436674</td>\n",
       "      <td>0.496511</td>\n",
       "      <td>0.463035</td>\n",
       "    </tr>\n",
       "    <tr>\n",
       "      <th>5</th>\n",
       "      <td>RF</td>\n",
       "      <td>0.501549</td>\n",
       "      <td>0.419586</td>\n",
       "      <td>0.487328</td>\n",
       "      <td>0.459305</td>\n",
       "    </tr>\n",
       "  </tbody>\n",
       "</table>\n",
       "</div>"
      ],
      "text/plain": [
       "  Model  Accuracy    Recall  Precision        F1\n",
       "0   KNN  0.492920  0.467224   0.484266  0.475002\n",
       "1    DT  0.508407  0.507197   0.501650  0.506589\n",
       "2   SVM  0.499336  0.466776   0.490756  0.478199\n",
       "3   ADA  0.503540  0.460875   0.495478  0.477284\n",
       "4   GBC  0.505088  0.436674   0.496511  0.463035\n",
       "5    RF  0.501549  0.419586   0.487328  0.459305"
      ]
     },
     "execution_count": 19,
     "metadata": {},
     "output_type": "execute_result"
    }
   ],
   "source": [
    "df_results"
   ]
  }
 ],
 "metadata": {
  "kernelspec": {
   "display_name": "base",
   "language": "python",
   "name": "python3"
  },
  "language_info": {
   "codemirror_mode": {
    "name": "ipython",
    "version": 3
   },
   "file_extension": ".py",
   "mimetype": "text/x-python",
   "name": "python",
   "nbconvert_exporter": "python",
   "pygments_lexer": "ipython3",
   "version": "3.13.0"
  }
 },
 "nbformat": 4,
 "nbformat_minor": 2
}
