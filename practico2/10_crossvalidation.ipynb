{
 "cells": [
  {
   "cell_type": "code",
   "execution_count": 1,
   "metadata": {},
   "outputs": [],
   "source": [
    "import warnings\n",
    "warnings.filterwarnings('ignore')"
   ]
  },
  {
   "cell_type": "markdown",
   "metadata": {},
   "source": [
    "##### Validación cruzada"
   ]
  },
  {
   "cell_type": "code",
   "execution_count": 7,
   "metadata": {},
   "outputs": [],
   "source": [
    "import pandas as pd\n",
    "from joblib import load\n",
    "import numpy as np\n",
    "\n",
    "from sklearn.model_selection import cross_val_score"
   ]
  },
  {
   "cell_type": "markdown",
   "metadata": {},
   "source": [
    "##### Cargar modelos entrenados"
   ]
  },
  {
   "cell_type": "code",
   "execution_count": 8,
   "metadata": {},
   "outputs": [],
   "source": [
    "models = {\n",
    "    \"KNN\": load(\"results/knn_model.joblib\"),\n",
    "    \"DT\": load(\"results/dt_model.joblib\"),\n",
    "    \"SVM\": load(\"results/svm_model.joblib\"),\n",
    "    \"ADA\": load(\"results/ada_model.joblib\"),\n",
    "    \"RF\": load(\"results/rf_model.joblib\")\n",
    "}"
   ]
  },
  {
   "cell_type": "markdown",
   "metadata": {},
   "source": [
    "##### Leer datos y respuestas"
   ]
  },
  {
   "cell_type": "code",
   "execution_count": 9,
   "metadata": {},
   "outputs": [],
   "source": [
    "train_data = pd.read_csv(\"process_dataset/train_data_scaled_robust.csv\")\n",
    "val_data = pd.read_csv(\"process_dataset/val_data.csv\")\n",
    "test_data = pd.read_csv(\"process_dataset/test_data.csv\")\n",
    "\n",
    "y_train = np.load(\"process_dataset/y_train.npy\")\n",
    "y_val = np.load(\"process_dataset/y_val.npy\")\n",
    "y_test = np.load(\"process_dataset/y_test.npy\")"
   ]
  },
  {
   "cell_type": "markdown",
   "metadata": {},
   "source": [
    "#### Ejecutar validación cruzada y calcular métricas de desempeño"
   ]
  },
  {
   "cell_type": "code",
   "execution_count": 10,
   "metadata": {},
   "outputs": [],
   "source": [
    "results = []\n",
    "\n",
    "for model_name, model in models.items():\n",
    "    metrics = {\n",
    "        \"Model\": model_name,\n",
    "        \"Accuracy\": cross_val_score(model, train_data, y_train, cv=10, scoring=\"accuracy\").mean(),\n",
    "        \"Recall\": cross_val_score(model, train_data, y_train, cv=10, scoring=\"recall\").mean(),\n",
    "        \"Precision\": cross_val_score(model, train_data, y_train, cv=10, scoring=\"precision\").mean(),\n",
    "        \"F1\": cross_val_score(model, train_data, y_train, cv=10, scoring=\"f1\").mean()\n",
    "    }\n",
    "    results.append(metrics)\n",
    "\n",
    "df_results = pd.DataFrame(results)"
   ]
  },
  {
   "cell_type": "code",
   "execution_count": 11,
   "metadata": {},
   "outputs": [
    {
     "data": {
      "text/html": [
       "<div>\n",
       "<style scoped>\n",
       "    .dataframe tbody tr th:only-of-type {\n",
       "        vertical-align: middle;\n",
       "    }\n",
       "\n",
       "    .dataframe tbody tr th {\n",
       "        vertical-align: top;\n",
       "    }\n",
       "\n",
       "    .dataframe thead th {\n",
       "        text-align: right;\n",
       "    }\n",
       "</style>\n",
       "<table border=\"1\" class=\"dataframe\">\n",
       "  <thead>\n",
       "    <tr style=\"text-align: right;\">\n",
       "      <th></th>\n",
       "      <th>Model</th>\n",
       "      <th>Accuracy</th>\n",
       "      <th>Recall</th>\n",
       "      <th>Precision</th>\n",
       "      <th>F1</th>\n",
       "    </tr>\n",
       "  </thead>\n",
       "  <tbody>\n",
       "    <tr>\n",
       "      <th>0</th>\n",
       "      <td>KNN</td>\n",
       "      <td>0.492920</td>\n",
       "      <td>0.467224</td>\n",
       "      <td>0.484266</td>\n",
       "      <td>0.475002</td>\n",
       "    </tr>\n",
       "    <tr>\n",
       "      <th>1</th>\n",
       "      <td>DT</td>\n",
       "      <td>0.508628</td>\n",
       "      <td>0.510778</td>\n",
       "      <td>0.505607</td>\n",
       "      <td>0.502793</td>\n",
       "    </tr>\n",
       "    <tr>\n",
       "      <th>2</th>\n",
       "      <td>SVM</td>\n",
       "      <td>0.499336</td>\n",
       "      <td>0.466776</td>\n",
       "      <td>0.490756</td>\n",
       "      <td>0.478199</td>\n",
       "    </tr>\n",
       "    <tr>\n",
       "      <th>3</th>\n",
       "      <td>ADA</td>\n",
       "      <td>0.503540</td>\n",
       "      <td>0.460875</td>\n",
       "      <td>0.495478</td>\n",
       "      <td>0.477284</td>\n",
       "    </tr>\n",
       "    <tr>\n",
       "      <th>4</th>\n",
       "      <td>RF</td>\n",
       "      <td>0.494912</td>\n",
       "      <td>0.434864</td>\n",
       "      <td>0.476455</td>\n",
       "      <td>0.457308</td>\n",
       "    </tr>\n",
       "  </tbody>\n",
       "</table>\n",
       "</div>"
      ],
      "text/plain": [
       "  Model  Accuracy    Recall  Precision        F1\n",
       "0   KNN  0.492920  0.467224   0.484266  0.475002\n",
       "1    DT  0.508628  0.510778   0.505607  0.502793\n",
       "2   SVM  0.499336  0.466776   0.490756  0.478199\n",
       "3   ADA  0.503540  0.460875   0.495478  0.477284\n",
       "4    RF  0.494912  0.434864   0.476455  0.457308"
      ]
     },
     "execution_count": 11,
     "metadata": {},
     "output_type": "execute_result"
    }
   ],
   "source": [
    "df_results"
   ]
  },
  {
   "cell_type": "code",
   "execution_count": 30,
   "metadata": {},
   "outputs": [
    {
     "data": {
      "text/html": [
       "<div>\n",
       "<style scoped>\n",
       "    .dataframe tbody tr th:only-of-type {\n",
       "        vertical-align: middle;\n",
       "    }\n",
       "\n",
       "    .dataframe tbody tr th {\n",
       "        vertical-align: top;\n",
       "    }\n",
       "\n",
       "    .dataframe thead th {\n",
       "        text-align: right;\n",
       "    }\n",
       "</style>\n",
       "<table border=\"1\" class=\"dataframe\">\n",
       "  <thead>\n",
       "    <tr style=\"text-align: right;\">\n",
       "      <th></th>\n",
       "      <th>Model</th>\n",
       "      <th>Accuracy</th>\n",
       "      <th>Recall</th>\n",
       "      <th>Precision</th>\n",
       "      <th>F1</th>\n",
       "    </tr>\n",
       "  </thead>\n",
       "  <tbody>\n",
       "    <tr>\n",
       "      <th>0</th>\n",
       "      <td>KNN</td>\n",
       "      <td>0.591514</td>\n",
       "      <td>0.232751</td>\n",
       "      <td>0.339448</td>\n",
       "      <td>0.275788</td>\n",
       "    </tr>\n",
       "    <tr>\n",
       "      <th>1</th>\n",
       "      <td>DT</td>\n",
       "      <td>0.560677</td>\n",
       "      <td>0.348599</td>\n",
       "      <td>0.333824</td>\n",
       "      <td>0.347732</td>\n",
       "    </tr>\n",
       "    <tr>\n",
       "      <th>2</th>\n",
       "      <td>SVM</td>\n",
       "      <td>0.665492</td>\n",
       "      <td>0.000000</td>\n",
       "      <td>0.000000</td>\n",
       "      <td>0.000000</td>\n",
       "    </tr>\n",
       "    <tr>\n",
       "      <th>3</th>\n",
       "      <td>ADA</td>\n",
       "      <td>0.659154</td>\n",
       "      <td>0.010006</td>\n",
       "      <td>0.243734</td>\n",
       "      <td>0.019188</td>\n",
       "    </tr>\n",
       "    <tr>\n",
       "      <th>4</th>\n",
       "      <td>RF</td>\n",
       "      <td>0.661264</td>\n",
       "      <td>0.007903</td>\n",
       "      <td>0.382381</td>\n",
       "      <td>0.018473</td>\n",
       "    </tr>\n",
       "  </tbody>\n",
       "</table>\n",
       "</div>"
      ],
      "text/plain": [
       "  Model  Accuracy    Recall  Precision        F1\n",
       "0   KNN  0.591514  0.232751   0.339448  0.275788\n",
       "1    DT  0.560677  0.348599   0.333824  0.347732\n",
       "2   SVM  0.665492  0.000000   0.000000  0.000000\n",
       "3   ADA  0.659154  0.010006   0.243734  0.019188\n",
       "4    RF  0.661264  0.007903   0.382381  0.018473"
      ]
     },
     "execution_count": 30,
     "metadata": {},
     "output_type": "execute_result"
    }
   ],
   "source": [
    "df_results # Antes de balancear las clases"
   ]
  }
 ],
 "metadata": {
  "kernelspec": {
   "display_name": "base",
   "language": "python",
   "name": "python3"
  },
  "language_info": {
   "codemirror_mode": {
    "name": "ipython",
    "version": 3
   },
   "file_extension": ".py",
   "mimetype": "text/x-python",
   "name": "python",
   "nbconvert_exporter": "python",
   "pygments_lexer": "ipython3",
   "version": "3.12.5"
  }
 },
 "nbformat": 4,
 "nbformat_minor": 2
}
