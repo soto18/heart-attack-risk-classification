{
 "cells": [
  {
   "cell_type": "code",
   "execution_count": 4,
   "metadata": {},
   "outputs": [],
   "source": [
    "import pandas as pd\n",
    "import numpy as np\n",
    "\n",
    "from tpot import TPOTClassifier"
   ]
  },
  {
   "cell_type": "markdown",
   "metadata": {},
   "source": [
    "#### Método de optimización automática"
   ]
  },
  {
   "cell_type": "code",
   "execution_count": 6,
   "metadata": {},
   "outputs": [],
   "source": [
    "X_train = pd.read_csv(\"process_dataset/train_data_scaled_robust.csv\")\n",
    "y_train = np.load(\"process_dataset/y_train.npy\")\n",
    "\n",
    "X_test = pd.read_csv(\"process_dataset/test_data.csv\")\n",
    "y_test = np.load(\"process_dataset/y_test.npy\")\n",
    "\n",
    "X_val = pd.read_csv(\"process_dataset/val_data.csv\")\n",
    "y_val = np.load(\"process_dataset/y_val.npy\")"
   ]
  },
  {
   "cell_type": "markdown",
   "metadata": {},
   "source": [
    "#### Optimización indicando el algoritmo"
   ]
  },
  {
   "cell_type": "code",
   "execution_count": null,
   "metadata": {},
   "outputs": [],
   "source": [
    "custom_config = {\n",
    "    'sklearn.tree.DecisionTreeClassifier': {\n",
    "        'criterion': ['gini', 'entropy'],\n",
    "        'max_depth': range(1, 20),\n",
    "        'min_samples_split': range(2, 20),\n",
    "        'min_samples_leaf': range(1, 20)\n",
    "    }\n",
    "}\n",
    "\n",
    "tpot = TPOTClassifier(\n",
    "    config_dict=custom_config,\n",
    "    generations=5,           \n",
    "    population_size=20,        \n",
    "    verbosity=2,                \n",
    "    random_state=42              \n",
    ")\n",
    "\n",
    "tpot.fit(X_train, y_train)"
   ]
  },
  {
   "cell_type": "markdown",
   "metadata": {},
   "source": [
    "#### Optimización sin restricciones"
   ]
  },
  {
   "cell_type": "code",
   "execution_count": null,
   "metadata": {},
   "outputs": [],
   "source": [
    "tpot = TPOTClassifier(\n",
    "    generations=5,              # Número de generaciones (más generaciones -> mejor optimización)\n",
    "    population_size=50,         # Tamaño de la población (mayor población -> mejor exploración)\n",
    "    verbosity=2,               \n",
    "    random_state=42            \n",
    ")\n",
    "\n",
    "tpot.fit(X_train, y_train)"
   ]
  }
 ],
 "metadata": {
  "kernelspec": {
   "display_name": "base",
   "language": "python",
   "name": "python3"
  },
  "language_info": {
   "codemirror_mode": {
    "name": "ipython",
    "version": 3
   },
   "file_extension": ".py",
   "mimetype": "text/x-python",
   "name": "python",
   "nbconvert_exporter": "python",
   "pygments_lexer": "ipython3",
   "version": "3.12.5"
  }
 },
 "nbformat": 4,
 "nbformat_minor": 2
}
